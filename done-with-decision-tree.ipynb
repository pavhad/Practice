{
 "cells": [
  {
   "cell_type": "code",
   "execution_count": 1,
   "id": "748e5c6a",
   "metadata": {
    "_cell_guid": "b1076dfc-b9ad-4769-8c92-a6c4dae69d19",
    "_uuid": "8f2839f25d086af736a60e9eeb907d3b93b6e0e5",
    "execution": {
     "iopub.execute_input": "2022-07-14T12:20:20.816460Z",
     "iopub.status.busy": "2022-07-14T12:20:20.815945Z",
     "iopub.status.idle": "2022-07-14T12:20:20.835636Z",
     "shell.execute_reply": "2022-07-14T12:20:20.834369Z"
    },
    "papermill": {
     "duration": 0.029663,
     "end_time": "2022-07-14T12:20:20.838511",
     "exception": false,
     "start_time": "2022-07-14T12:20:20.808848",
     "status": "completed"
    },
    "tags": []
   },
   "outputs": [
    {
     "name": "stdout",
     "output_type": "stream",
     "text": [
      "/kaggle/input/nasa-nearest-earth-objects/neo_v2.csv\n",
      "/kaggle/input/nasa-nearest-earth-objects/neo.csv\n"
     ]
    }
   ],
   "source": [
    "# This Python 3 environment comes with many helpful analytics libraries installed\n",
    "# It is defined by the kaggle/python Docker image: https://github.com/kaggle/docker-python\n",
    "# For example, here's several helpful packages to load\n",
    "\n",
    "import numpy as np # linear algebra\n",
    "import pandas as pd # data processing, CSV file I/O (e.g. pd.read_csv)\n",
    "\n",
    "# Input data files are available in the read-only \"../input/\" directory\n",
    "# For example, running this (by clicking run or pressing Shift+Enter) will list all files under the input directory\n",
    "\n",
    "import os\n",
    "for dirname, _, filenames in os.walk('/kaggle/input'):\n",
    "    for filename in filenames:\n",
    "        print(os.path.join(dirname, filename))\n",
    "\n",
    "# You can write up to 20GB to the current directory (/kaggle/working/) that gets preserved as output when you create a version using \"Save & Run All\" \n",
    "# You can also write temporary files to /kaggle/temp/, but they won't be saved outside of the current session"
   ]
  },
  {
   "cell_type": "code",
   "execution_count": 2,
   "id": "d775b786",
   "metadata": {
    "execution": {
     "iopub.execute_input": "2022-07-14T12:20:20.850670Z",
     "iopub.status.busy": "2022-07-14T12:20:20.849310Z",
     "iopub.status.idle": "2022-07-14T12:20:22.721055Z",
     "shell.execute_reply": "2022-07-14T12:20:22.719765Z"
    },
    "papermill": {
     "duration": 1.880692,
     "end_time": "2022-07-14T12:20:22.724086",
     "exception": false,
     "start_time": "2022-07-14T12:20:20.843394",
     "status": "completed"
    },
    "tags": []
   },
   "outputs": [],
   "source": [
    "import pandas as pd\n",
    "import seaborn as sns\n",
    "import matplotlib.pyplot as plt\n",
    "from imblearn.over_sampling import SVMSMOTE\n",
    "from sklearn.preprocessing import StandardScaler\n",
    "from sklearn.model_selection import train_test_split\n",
    "from sklearn.tree import DecisionTreeClassifier\n",
    "from sklearn.svm import LinearSVC\n",
    "from sklearn.metrics import accuracy_score, confusion_matrix, classification_report, precision_score, recall_score, f1_score\n",
    "\n",
    "import warnings\n",
    "warnings.filterwarnings('ignore')"
   ]
  },
  {
   "cell_type": "code",
   "execution_count": 3,
   "id": "c7bd9da0",
   "metadata": {
    "execution": {
     "iopub.execute_input": "2022-07-14T12:20:22.736474Z",
     "iopub.status.busy": "2022-07-14T12:20:22.735250Z",
     "iopub.status.idle": "2022-07-14T12:20:23.129482Z",
     "shell.execute_reply": "2022-07-14T12:20:23.128484Z"
    },
    "papermill": {
     "duration": 0.40302,
     "end_time": "2022-07-14T12:20:23.132011",
     "exception": false,
     "start_time": "2022-07-14T12:20:22.728991",
     "status": "completed"
    },
    "tags": []
   },
   "outputs": [
    {
     "data": {
      "text/html": [
       "<div>\n",
       "<style scoped>\n",
       "    .dataframe tbody tr th:only-of-type {\n",
       "        vertical-align: middle;\n",
       "    }\n",
       "\n",
       "    .dataframe tbody tr th {\n",
       "        vertical-align: top;\n",
       "    }\n",
       "\n",
       "    .dataframe thead th {\n",
       "        text-align: right;\n",
       "    }\n",
       "</style>\n",
       "<table border=\"1\" class=\"dataframe\">\n",
       "  <thead>\n",
       "    <tr style=\"text-align: right;\">\n",
       "      <th></th>\n",
       "      <th>id</th>\n",
       "      <th>name</th>\n",
       "      <th>est_diameter_min</th>\n",
       "      <th>est_diameter_max</th>\n",
       "      <th>relative_velocity</th>\n",
       "      <th>miss_distance</th>\n",
       "      <th>orbiting_body</th>\n",
       "      <th>sentry_object</th>\n",
       "      <th>absolute_magnitude</th>\n",
       "      <th>hazardous</th>\n",
       "    </tr>\n",
       "  </thead>\n",
       "  <tbody>\n",
       "    <tr>\n",
       "      <th>0</th>\n",
       "      <td>2162635</td>\n",
       "      <td>162635 (2000 SS164)</td>\n",
       "      <td>1.198271</td>\n",
       "      <td>2.679415</td>\n",
       "      <td>13569.249224</td>\n",
       "      <td>5.483974e+07</td>\n",
       "      <td>Earth</td>\n",
       "      <td>False</td>\n",
       "      <td>16.73</td>\n",
       "      <td>False</td>\n",
       "    </tr>\n",
       "    <tr>\n",
       "      <th>1</th>\n",
       "      <td>2277475</td>\n",
       "      <td>277475 (2005 WK4)</td>\n",
       "      <td>0.265800</td>\n",
       "      <td>0.594347</td>\n",
       "      <td>73588.726663</td>\n",
       "      <td>6.143813e+07</td>\n",
       "      <td>Earth</td>\n",
       "      <td>False</td>\n",
       "      <td>20.00</td>\n",
       "      <td>True</td>\n",
       "    </tr>\n",
       "    <tr>\n",
       "      <th>2</th>\n",
       "      <td>2512244</td>\n",
       "      <td>512244 (2015 YE18)</td>\n",
       "      <td>0.722030</td>\n",
       "      <td>1.614507</td>\n",
       "      <td>114258.692129</td>\n",
       "      <td>4.979872e+07</td>\n",
       "      <td>Earth</td>\n",
       "      <td>False</td>\n",
       "      <td>17.83</td>\n",
       "      <td>False</td>\n",
       "    </tr>\n",
       "    <tr>\n",
       "      <th>3</th>\n",
       "      <td>3596030</td>\n",
       "      <td>(2012 BV13)</td>\n",
       "      <td>0.096506</td>\n",
       "      <td>0.215794</td>\n",
       "      <td>24764.303138</td>\n",
       "      <td>2.543497e+07</td>\n",
       "      <td>Earth</td>\n",
       "      <td>False</td>\n",
       "      <td>22.20</td>\n",
       "      <td>False</td>\n",
       "    </tr>\n",
       "    <tr>\n",
       "      <th>4</th>\n",
       "      <td>3667127</td>\n",
       "      <td>(2014 GE35)</td>\n",
       "      <td>0.255009</td>\n",
       "      <td>0.570217</td>\n",
       "      <td>42737.733765</td>\n",
       "      <td>4.627557e+07</td>\n",
       "      <td>Earth</td>\n",
       "      <td>False</td>\n",
       "      <td>20.09</td>\n",
       "      <td>True</td>\n",
       "    </tr>\n",
       "  </tbody>\n",
       "</table>\n",
       "</div>"
      ],
      "text/plain": [
       "        id                 name  est_diameter_min  est_diameter_max  \\\n",
       "0  2162635  162635 (2000 SS164)          1.198271          2.679415   \n",
       "1  2277475    277475 (2005 WK4)          0.265800          0.594347   \n",
       "2  2512244   512244 (2015 YE18)          0.722030          1.614507   \n",
       "3  3596030          (2012 BV13)          0.096506          0.215794   \n",
       "4  3667127          (2014 GE35)          0.255009          0.570217   \n",
       "\n",
       "   relative_velocity  miss_distance orbiting_body  sentry_object  \\\n",
       "0       13569.249224   5.483974e+07         Earth          False   \n",
       "1       73588.726663   6.143813e+07         Earth          False   \n",
       "2      114258.692129   4.979872e+07         Earth          False   \n",
       "3       24764.303138   2.543497e+07         Earth          False   \n",
       "4       42737.733765   4.627557e+07         Earth          False   \n",
       "\n",
       "   absolute_magnitude  hazardous  \n",
       "0               16.73      False  \n",
       "1               20.00       True  \n",
       "2               17.83      False  \n",
       "3               22.20      False  \n",
       "4               20.09       True  "
      ]
     },
     "execution_count": 3,
     "metadata": {},
     "output_type": "execute_result"
    }
   ],
   "source": [
    "df = pd.read_csv('/kaggle/input/nasa-nearest-earth-objects/neo_v2.csv')\n",
    "\n",
    "df.head()"
   ]
  },
  {
   "cell_type": "code",
   "execution_count": 4,
   "id": "d401bbd9",
   "metadata": {
    "execution": {
     "iopub.execute_input": "2022-07-14T12:20:23.145018Z",
     "iopub.status.busy": "2022-07-14T12:20:23.143666Z",
     "iopub.status.idle": "2022-07-14T12:20:23.169900Z",
     "shell.execute_reply": "2022-07-14T12:20:23.168720Z"
    },
    "papermill": {
     "duration": 0.034967,
     "end_time": "2022-07-14T12:20:23.172370",
     "exception": false,
     "start_time": "2022-07-14T12:20:23.137403",
     "status": "completed"
    },
    "tags": []
   },
   "outputs": [
    {
     "data": {
      "text/html": [
       "<div>\n",
       "<style scoped>\n",
       "    .dataframe tbody tr th:only-of-type {\n",
       "        vertical-align: middle;\n",
       "    }\n",
       "\n",
       "    .dataframe tbody tr th {\n",
       "        vertical-align: top;\n",
       "    }\n",
       "\n",
       "    .dataframe thead th {\n",
       "        text-align: right;\n",
       "    }\n",
       "</style>\n",
       "<table border=\"1\" class=\"dataframe\">\n",
       "  <thead>\n",
       "    <tr style=\"text-align: right;\">\n",
       "      <th></th>\n",
       "      <th>est_diameter_min</th>\n",
       "      <th>est_diameter_max</th>\n",
       "      <th>relative_velocity</th>\n",
       "      <th>miss_distance</th>\n",
       "      <th>hazardous</th>\n",
       "    </tr>\n",
       "  </thead>\n",
       "  <tbody>\n",
       "    <tr>\n",
       "      <th>0</th>\n",
       "      <td>1.198271</td>\n",
       "      <td>2.679415</td>\n",
       "      <td>13569.249224</td>\n",
       "      <td>5.483974e+07</td>\n",
       "      <td>False</td>\n",
       "    </tr>\n",
       "    <tr>\n",
       "      <th>1</th>\n",
       "      <td>0.265800</td>\n",
       "      <td>0.594347</td>\n",
       "      <td>73588.726663</td>\n",
       "      <td>6.143813e+07</td>\n",
       "      <td>True</td>\n",
       "    </tr>\n",
       "    <tr>\n",
       "      <th>2</th>\n",
       "      <td>0.722030</td>\n",
       "      <td>1.614507</td>\n",
       "      <td>114258.692129</td>\n",
       "      <td>4.979872e+07</td>\n",
       "      <td>False</td>\n",
       "    </tr>\n",
       "    <tr>\n",
       "      <th>3</th>\n",
       "      <td>0.096506</td>\n",
       "      <td>0.215794</td>\n",
       "      <td>24764.303138</td>\n",
       "      <td>2.543497e+07</td>\n",
       "      <td>False</td>\n",
       "    </tr>\n",
       "    <tr>\n",
       "      <th>4</th>\n",
       "      <td>0.255009</td>\n",
       "      <td>0.570217</td>\n",
       "      <td>42737.733765</td>\n",
       "      <td>4.627557e+07</td>\n",
       "      <td>True</td>\n",
       "    </tr>\n",
       "  </tbody>\n",
       "</table>\n",
       "</div>"
      ],
      "text/plain": [
       "   est_diameter_min  est_diameter_max  relative_velocity  miss_distance  \\\n",
       "0          1.198271          2.679415       13569.249224   5.483974e+07   \n",
       "1          0.265800          0.594347       73588.726663   6.143813e+07   \n",
       "2          0.722030          1.614507      114258.692129   4.979872e+07   \n",
       "3          0.096506          0.215794       24764.303138   2.543497e+07   \n",
       "4          0.255009          0.570217       42737.733765   4.627557e+07   \n",
       "\n",
       "   hazardous  \n",
       "0      False  \n",
       "1       True  \n",
       "2      False  \n",
       "3      False  \n",
       "4       True  "
      ]
     },
     "execution_count": 4,
     "metadata": {},
     "output_type": "execute_result"
    }
   ],
   "source": [
    "df_used = df[['est_diameter_min','est_diameter_max', 'relative_velocity','miss_distance','hazardous']]\n",
    "df_used.head()"
   ]
  },
  {
   "cell_type": "code",
   "execution_count": 5,
   "id": "016e7305",
   "metadata": {
    "execution": {
     "iopub.execute_input": "2022-07-14T12:20:23.185242Z",
     "iopub.status.busy": "2022-07-14T12:20:23.184251Z",
     "iopub.status.idle": "2022-07-14T12:20:23.195433Z",
     "shell.execute_reply": "2022-07-14T12:20:23.194055Z"
    },
    "papermill": {
     "duration": 0.020241,
     "end_time": "2022-07-14T12:20:23.197949",
     "exception": false,
     "start_time": "2022-07-14T12:20:23.177708",
     "status": "completed"
    },
    "tags": []
   },
   "outputs": [],
   "source": [
    "X = df_used[['est_diameter_min','est_diameter_max', 'relative_velocity','miss_distance']]\n",
    "y = df_used['hazardous']"
   ]
  },
  {
   "cell_type": "code",
   "execution_count": 6,
   "id": "e5afc63e",
   "metadata": {
    "execution": {
     "iopub.execute_input": "2022-07-14T12:20:23.210682Z",
     "iopub.status.busy": "2022-07-14T12:20:23.209816Z",
     "iopub.status.idle": "2022-07-14T12:20:23.402225Z",
     "shell.execute_reply": "2022-07-14T12:20:23.400938Z"
    },
    "papermill": {
     "duration": 0.2027,
     "end_time": "2022-07-14T12:20:23.405783",
     "exception": false,
     "start_time": "2022-07-14T12:20:23.203083",
     "status": "completed"
    },
    "tags": []
   },
   "outputs": [
    {
     "data": {
      "text/plain": [
       "<AxesSubplot:>"
      ]
     },
     "execution_count": 6,
     "metadata": {},
     "output_type": "execute_result"
    },
    {
     "data": {
      "image/png": "[encoded data removed]",
      "text/plain": [
       "<Figure size 432x288 with 1 Axes>"
      ]
     },
     "metadata": {
      "needs_background": "light"
     },
     "output_type": "display_data"
    }
   ],
   "source": [
    "y.value_counts().plot(kind='bar')"
   ]
  },
  {
   "cell_type": "code",
   "execution_count": 7,
   "id": "4cde7c70",
   "metadata": {
    "execution": {
     "iopub.execute_input": "2022-07-14T12:20:23.419016Z",
     "iopub.status.busy": "2022-07-14T12:20:23.418576Z",
     "iopub.status.idle": "2022-07-14T12:21:35.311715Z",
     "shell.execute_reply": "2022-07-14T12:21:35.310526Z"
    },
    "papermill": {
     "duration": 71.908452,
     "end_time": "2022-07-14T12:21:35.319868",
     "exception": false,
     "start_time": "2022-07-14T12:20:23.411416",
     "status": "completed"
    },
    "tags": []
   },
   "outputs": [],
   "source": [
    "smote = SVMSMOTE()\n",
    "X_resampled, y_resampled = smote.fit_resample(X, y)"
   ]
  },
  {
   "cell_type": "code",
   "execution_count": 8,
   "id": "a1b4a224",
   "metadata": {
    "execution": {
     "iopub.execute_input": "2022-07-14T12:21:35.333192Z",
     "iopub.status.busy": "2022-07-14T12:21:35.331974Z",
     "iopub.status.idle": "2022-07-14T12:21:35.370030Z",
     "shell.execute_reply": "2022-07-14T12:21:35.368808Z"
    },
    "papermill": {
     "duration": 0.048388,
     "end_time": "2022-07-14T12:21:35.373805",
     "exception": false,
     "start_time": "2022-07-14T12:21:35.325417",
     "status": "completed"
    },
    "tags": []
   },
   "outputs": [],
   "source": [
    "scaler = StandardScaler()\n",
    "scaler.fit(X_resampled)\n",
    "X_resampled = scaler.transform(X_resampled)\n",
    "\n",
    "X_train, X_test, y_train, y_test = train_test_split(X_resampled, y_resampled, test_size=0.2)"
   ]
  },
  {
   "cell_type": "code",
   "execution_count": 9,
   "id": "b8f35afd",
   "metadata": {
    "execution": {
     "iopub.execute_input": "2022-07-14T12:21:35.392192Z",
     "iopub.status.busy": "2022-07-14T12:21:35.391745Z",
     "iopub.status.idle": "2022-07-14T12:21:35.396676Z",
     "shell.execute_reply": "2022-07-14T12:21:35.395809Z"
    },
    "papermill": {
     "duration": 0.019651,
     "end_time": "2022-07-14T12:21:35.401609",
     "exception": false,
     "start_time": "2022-07-14T12:21:35.381958",
     "status": "completed"
    },
    "tags": []
   },
   "outputs": [],
   "source": [
    "clf = DecisionTreeClassifier(random_state=0)"
   ]
  },
  {
   "cell_type": "code",
   "execution_count": 10,
   "id": "60abdd75",
   "metadata": {
    "execution": {
     "iopub.execute_input": "2022-07-14T12:21:35.416790Z",
     "iopub.status.busy": "2022-07-14T12:21:35.416293Z",
     "iopub.status.idle": "2022-07-14T12:21:36.320255Z",
     "shell.execute_reply": "2022-07-14T12:21:36.319355Z"
    },
    "papermill": {
     "duration": 0.914562,
     "end_time": "2022-07-14T12:21:36.322494",
     "exception": false,
     "start_time": "2022-07-14T12:21:35.407932",
     "status": "completed"
    },
    "tags": []
   },
   "outputs": [
    {
     "data": {
      "text/plain": [
       "DecisionTreeClassifier(random_state=0)"
      ]
     },
     "execution_count": 10,
     "metadata": {},
     "output_type": "execute_result"
    }
   ],
   "source": [
    "clf.fit(X_train, y_train)"
   ]
  },
  {
   "cell_type": "code",
   "execution_count": 11,
   "id": "715f37ee",
   "metadata": {
    "execution": {
     "iopub.execute_input": "2022-07-14T12:21:36.336379Z",
     "iopub.status.busy": "2022-07-14T12:21:36.335156Z",
     "iopub.status.idle": "2022-07-14T12:21:36.397099Z",
     "shell.execute_reply": "2022-07-14T12:21:36.395817Z"
    },
    "papermill": {
     "duration": 0.071664,
     "end_time": "2022-07-14T12:21:36.399804",
     "exception": false,
     "start_time": "2022-07-14T12:21:36.328140",
     "status": "completed"
    },
    "tags": []
   },
   "outputs": [
    {
     "name": "stdout",
     "output_type": "stream",
     "text": [
      "Accuracy: 0.9059117656026099\n",
      "Precision: [0.90677914 0.90504866]\n",
      "Recall: [0.90478805 0.90703487]\n",
      "F1 Score: [0.9057825  0.90604068]\n"
     ]
    }
   ],
   "source": [
    "y_pred = clf.predict(X_test)\n",
    "\n",
    "print(\"Accuracy:\",accuracy_score(y_test, y_pred))\n",
    "print(\"Precision:\",precision_score(y_test, y_pred, average=None))\n",
    "print(\"Recall:\",recall_score(y_test, y_pred, average=None))\n",
    "print(\"F1 Score:\",f1_score(y_test, y_pred, average=None))"
   ]
  },
  {
   "cell_type": "code",
   "execution_count": 12,
   "id": "75cbed3e",
   "metadata": {
    "execution": {
     "iopub.execute_input": "2022-07-14T12:21:36.412876Z",
     "iopub.status.busy": "2022-07-14T12:21:36.412473Z",
     "iopub.status.idle": "2022-07-14T12:21:36.591965Z",
     "shell.execute_reply": "2022-07-14T12:21:36.591083Z"
    },
    "papermill": {
     "duration": 0.188961,
     "end_time": "2022-07-14T12:21:36.594460",
     "exception": false,
     "start_time": "2022-07-14T12:21:36.405499",
     "status": "completed"
    },
    "tags": []
   },
   "outputs": [
    {
     "name": "stdout",
     "output_type": "stream",
     "text": [
      "Decision Tree Accuracy: 0.9059117656026099\n",
      "              precision    recall  f1-score   support\n",
      "\n",
      "       False       0.91      0.90      0.91     16395\n",
      "        True       0.91      0.91      0.91     16404\n",
      "\n",
      "    accuracy                           0.91     32799\n",
      "   macro avg       0.91      0.91      0.91     32799\n",
      "weighted avg       0.91      0.91      0.91     32799\n",
      "\n"
     ]
    },
    {
     "data": {
      "text/plain": [
       "Text(0.5, 1.0, 'SVM Confusion Matrix')"
      ]
     },
     "execution_count": 12,
     "metadata": {},
     "output_type": "execute_result"
    },
    {
     "data": {
      "image/png": "[encoded data removed]",
      "text/plain": [
       "<Figure size 432x288 with 1 Axes>"
      ]
     },
     "metadata": {
      "needs_background": "light"
     },
     "output_type": "display_data"
    }
   ],
   "source": [
    "cm_mlp = confusion_matrix(y_test, y_pred)\n",
    "print('Decision Tree Accuracy:', accuracy_score(y_test, y_pred))\n",
    "print(classification_report(y_test, y_pred))\n",
    "sns.heatmap(cm_mlp, annot=True, fmt='g', cbar=False)\n",
    "plt.xlabel('Predicted Values')\n",
    "plt.ylabel('Actual Values')\n",
    "plt.title('SVM Confusion Matrix')"
   ]
  },
  {
   "cell_type": "code",
   "execution_count": null,
   "id": "318072f7",
   "metadata": {
    "papermill": {
     "duration": 0.007047,
     "end_time": "2022-07-14T12:21:36.609128",
     "exception": false,
     "start_time": "2022-07-14T12:21:36.602081",
     "status": "completed"
    },
    "tags": []
   },
   "outputs": [],
   "source": []
  }
 ],
 "metadata": {
  "kernelspec": {
   "display_name": "Python 3",
   "language": "python",
   "name": "python3"
  },
  "language_info": {
   "codemirror_mode": {
    "name": "ipython",
    "version": 3
   },
   "file_extension": ".py",
   "mimetype": "text/x-python",
   "name": "python",
   "nbconvert_exporter": "python",
   "pygments_lexer": "ipython3",
   "version": "3.7.12"
  },
  "papermill": {
   "default_parameters": {},
   "duration": 87.625504,
   "end_time": "2022-07-14T12:21:37.440033",
   "environment_variables": {},
   "exception": null,
   "input_path": "__notebook__.ipynb",
   "output_path": "__notebook__.ipynb",
   "parameters": {},
   "start_time": "2022-07-14T12:20:09.814529",
   "version": "2.3.4"
  }
 },
 "nbformat": 4,
 "nbformat_minor": 5
}
