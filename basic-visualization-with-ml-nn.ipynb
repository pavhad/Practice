{
 "cells": [
  {
   "cell_type": "code",
   "execution_count": 1,
   "id": "83777d1a",
   "metadata": {
    "_cell_guid": "b1076dfc-b9ad-4769-8c92-a6c4dae69d19",
    "_uuid": "8f2839f25d086af736a60e9eeb907d3b93b6e0e5",
    "execution": {
     "iopub.execute_input": "2022-06-26T15:44:24.028563Z",
     "iopub.status.busy": "2022-06-26T15:44:24.027424Z",
     "iopub.status.idle": "2022-06-26T15:44:35.366463Z",
     "shell.execute_reply": "2022-06-26T15:44:35.365213Z"
    },
    "papermill": {
     "duration": 11.354215,
     "end_time": "2022-06-26T15:44:35.369413",
     "exception": false,
     "start_time": "2022-06-26T15:44:24.015198",
     "status": "completed"
    },
    "tags": []
   },
   "outputs": [
    {
     "name": "stdout",
     "output_type": "stream",
     "text": [
      "/kaggle/input/nasa-nearest-earth-objects/neo_v2.csv\n",
      "/kaggle/input/nasa-nearest-earth-objects/neo.csv\n"
     ]
    }
   ],
   "source": [
    "import numpy as np # linear algebra\n",
    "import pandas as pd # data processing, CSV file I/O (e.g. pd.read_csv)\n",
    "import matplotlib.pyplot as plt\n",
    "import seaborn as sns\n",
    "from sklearn.model_selection import train_test_split\n",
    "from sklearn import svm\n",
    "from sklearn.preprocessing import LabelEncoder\n",
    "import os\n",
    "import numpy as np\n",
    "import pandas as pd\n",
    "\n",
    "#visualization libraries\n",
    "import matplotlib.pyplot as plt\n",
    "import seaborn as sns\n",
    "%matplotlib inline\n",
    "\n",
    "#models\n",
    "from sklearn.model_selection import train_test_split\n",
    "from sklearn.metrics import accuracy_score\n",
    "from xgboost import XGBClassifier\n",
    "from sklearn.ensemble import RandomForestClassifier\n",
    "from sklearn.neighbors import KNeighborsClassifier\n",
    "from sklearn.naive_bayes import GaussianNB\n",
    "from sklearn.linear_model import SGDClassifier\n",
    "from sklearn.tree import DecisionTreeClassifier\n",
    "import tensorflow as tf\n",
    "from keras.models import Sequential\n",
    "from keras.layers import Dense\n",
    "from sklearn.metrics import confusion_matrix\n",
    "#ignore warnings\n",
    "import warnings\n",
    "warnings.filterwarnings('ignore')\n",
    "for dirname, _, filenames in os.walk('/kaggle/input'):\n",
    "    for filename in filenames:\n",
    "        print(os.path.join(dirname, filename))\n",
    "\n"
   ]
  },
  {
   "cell_type": "code",
   "execution_count": 2,
   "id": "32a4fb15",
   "metadata": {
    "execution": {
     "iopub.execute_input": "2022-06-26T15:44:35.390028Z",
     "iopub.status.busy": "2022-06-26T15:44:35.389248Z",
     "iopub.status.idle": "2022-06-26T15:44:35.698077Z",
     "shell.execute_reply": "2022-06-26T15:44:35.696954Z"
    },
    "papermill": {
     "duration": 0.321651,
     "end_time": "2022-06-26T15:44:35.700742",
     "exception": false,
     "start_time": "2022-06-26T15:44:35.379091",
     "status": "completed"
    },
    "tags": []
   },
   "outputs": [],
   "source": [
    "data = pd.read_csv('../input/nasa-nearest-earth-objects/neo.csv')"
   ]
  },
  {
   "cell_type": "code",
   "execution_count": 3,
   "id": "2997e121",
   "metadata": {
    "execution": {
     "iopub.execute_input": "2022-06-26T15:44:35.720105Z",
     "iopub.status.busy": "2022-06-26T15:44:35.719342Z",
     "iopub.status.idle": "2022-06-26T15:44:35.729286Z",
     "shell.execute_reply": "2022-06-26T15:44:35.728012Z"
    },
    "papermill": {
     "duration": 0.02218,
     "end_time": "2022-06-26T15:44:35.731646",
     "exception": false,
     "start_time": "2022-06-26T15:44:35.709466",
     "status": "completed"
    },
    "tags": []
   },
   "outputs": [
    {
     "data": {
      "text/plain": [
       "(90836, 10)"
      ]
     },
     "execution_count": 3,
     "metadata": {},
     "output_type": "execute_result"
    }
   ],
   "source": [
    "data.shape"
   ]
  },
  {
   "cell_type": "code",
   "execution_count": 4,
   "id": "d4721de6",
   "metadata": {
    "execution": {
     "iopub.execute_input": "2022-06-26T15:44:35.752201Z",
     "iopub.status.busy": "2022-06-26T15:44:35.751031Z",
     "iopub.status.idle": "2022-06-26T15:44:35.774663Z",
     "shell.execute_reply": "2022-06-26T15:44:35.773550Z"
    },
    "papermill": {
     "duration": 0.03655,
     "end_time": "2022-06-26T15:44:35.777354",
     "exception": false,
     "start_time": "2022-06-26T15:44:35.740804",
     "status": "completed"
    },
    "tags": []
   },
   "outputs": [
    {
     "data": {
      "text/html": [
       "<div>\n",
       "<style scoped>\n",
       "    .dataframe tbody tr th:only-of-type {\n",
       "        vertical-align: middle;\n",
       "    }\n",
       "\n",
       "    .dataframe tbody tr th {\n",
       "        vertical-align: top;\n",
       "    }\n",
       "\n",
       "    .dataframe thead th {\n",
       "        text-align: right;\n",
       "    }\n",
       "</style>\n",
       "<table border=\"1\" class=\"dataframe\">\n",
       "  <thead>\n",
       "    <tr style=\"text-align: right;\">\n",
       "      <th></th>\n",
       "      <th>id</th>\n",
       "      <th>name</th>\n",
       "      <th>est_diameter_min</th>\n",
       "      <th>est_diameter_max</th>\n",
       "      <th>relative_velocity</th>\n",
       "      <th>miss_distance</th>\n",
       "      <th>orbiting_body</th>\n",
       "      <th>sentry_object</th>\n",
       "      <th>absolute_magnitude</th>\n",
       "      <th>hazardous</th>\n",
       "    </tr>\n",
       "  </thead>\n",
       "  <tbody>\n",
       "    <tr>\n",
       "      <th>0</th>\n",
       "      <td>2162635</td>\n",
       "      <td>162635 (2000 SS164)</td>\n",
       "      <td>1.198271</td>\n",
       "      <td>2.679415</td>\n",
       "      <td>13569.249224</td>\n",
       "      <td>5.483974e+07</td>\n",
       "      <td>Earth</td>\n",
       "      <td>False</td>\n",
       "      <td>16.73</td>\n",
       "      <td>False</td>\n",
       "    </tr>\n",
       "    <tr>\n",
       "      <th>1</th>\n",
       "      <td>2277475</td>\n",
       "      <td>277475 (2005 WK4)</td>\n",
       "      <td>0.265800</td>\n",
       "      <td>0.594347</td>\n",
       "      <td>73588.726663</td>\n",
       "      <td>6.143813e+07</td>\n",
       "      <td>Earth</td>\n",
       "      <td>False</td>\n",
       "      <td>20.00</td>\n",
       "      <td>True</td>\n",
       "    </tr>\n",
       "    <tr>\n",
       "      <th>2</th>\n",
       "      <td>2512244</td>\n",
       "      <td>512244 (2015 YE18)</td>\n",
       "      <td>0.722030</td>\n",
       "      <td>1.614507</td>\n",
       "      <td>114258.692129</td>\n",
       "      <td>4.979872e+07</td>\n",
       "      <td>Earth</td>\n",
       "      <td>False</td>\n",
       "      <td>17.83</td>\n",
       "      <td>False</td>\n",
       "    </tr>\n",
       "    <tr>\n",
       "      <th>3</th>\n",
       "      <td>3596030</td>\n",
       "      <td>(2012 BV13)</td>\n",
       "      <td>0.096506</td>\n",
       "      <td>0.215794</td>\n",
       "      <td>24764.303138</td>\n",
       "      <td>2.543497e+07</td>\n",
       "      <td>Earth</td>\n",
       "      <td>False</td>\n",
       "      <td>22.20</td>\n",
       "      <td>False</td>\n",
       "    </tr>\n",
       "    <tr>\n",
       "      <th>4</th>\n",
       "      <td>3667127</td>\n",
       "      <td>(2014 GE35)</td>\n",
       "      <td>0.255009</td>\n",
       "      <td>0.570217</td>\n",
       "      <td>42737.733765</td>\n",
       "      <td>4.627557e+07</td>\n",
       "      <td>Earth</td>\n",
       "      <td>False</td>\n",
       "      <td>20.09</td>\n",
       "      <td>True</td>\n",
       "    </tr>\n",
       "  </tbody>\n",
       "</table>\n",
       "</div>"
      ],
      "text/plain": [
       "        id                 name  est_diameter_min  est_diameter_max  \\\n",
       "0  2162635  162635 (2000 SS164)          1.198271          2.679415   \n",
       "1  2277475    277475 (2005 WK4)          0.265800          0.594347   \n",
       "2  2512244   512244 (2015 YE18)          0.722030          1.614507   \n",
       "3  3596030          (2012 BV13)          0.096506          0.215794   \n",
       "4  3667127          (2014 GE35)          0.255009          0.570217   \n",
       "\n",
       "   relative_velocity  miss_distance orbiting_body  sentry_object  \\\n",
       "0       13569.249224   5.483974e+07         Earth          False   \n",
       "1       73588.726663   6.143813e+07         Earth          False   \n",
       "2      114258.692129   4.979872e+07         Earth          False   \n",
       "3       24764.303138   2.543497e+07         Earth          False   \n",
       "4       42737.733765   4.627557e+07         Earth          False   \n",
       "\n",
       "   absolute_magnitude  hazardous  \n",
       "0               16.73      False  \n",
       "1               20.00       True  \n",
       "2               17.83      False  \n",
       "3               22.20      False  \n",
       "4               20.09       True  "
      ]
     },
     "execution_count": 4,
     "metadata": {},
     "output_type": "execute_result"
    }
   ],
   "source": [
    "data.head()"
   ]
  },
  {
   "cell_type": "code",
   "execution_count": 5,
   "id": "ca50eb3d",
   "metadata": {
    "execution": {
     "iopub.execute_input": "2022-06-26T15:44:35.798220Z",
     "iopub.status.busy": "2022-06-26T15:44:35.797742Z",
     "iopub.status.idle": "2022-06-26T15:44:35.830446Z",
     "shell.execute_reply": "2022-06-26T15:44:35.828635Z"
    },
    "papermill": {
     "duration": 0.045847,
     "end_time": "2022-06-26T15:44:35.832753",
     "exception": false,
     "start_time": "2022-06-26T15:44:35.786906",
     "status": "completed"
    },
    "tags": []
   },
   "outputs": [
    {
     "data": {
      "text/plain": [
       "id                    0\n",
       "name                  0\n",
       "est_diameter_min      0\n",
       "est_diameter_max      0\n",
       "relative_velocity     0\n",
       "miss_distance         0\n",
       "orbiting_body         0\n",
       "sentry_object         0\n",
       "absolute_magnitude    0\n",
       "hazardous             0\n",
       "dtype: int64"
      ]
     },
     "execution_count": 5,
     "metadata": {},
     "output_type": "execute_result"
    }
   ],
   "source": [
    "data.isnull().sum()"
   ]
  },
  {
   "cell_type": "code",
   "execution_count": 6,
   "id": "9e234535",
   "metadata": {
    "execution": {
     "iopub.execute_input": "2022-06-26T15:44:35.853647Z",
     "iopub.status.busy": "2022-06-26T15:44:35.853014Z",
     "iopub.status.idle": "2022-06-26T15:44:35.865875Z",
     "shell.execute_reply": "2022-06-26T15:44:35.864830Z"
    },
    "papermill": {
     "duration": 0.025851,
     "end_time": "2022-06-26T15:44:35.868049",
     "exception": false,
     "start_time": "2022-06-26T15:44:35.842198",
     "status": "completed"
    },
    "tags": []
   },
   "outputs": [
    {
     "data": {
      "text/plain": [
       "False    81996\n",
       "True      8840\n",
       "Name: hazardous, dtype: int64"
      ]
     },
     "execution_count": 6,
     "metadata": {},
     "output_type": "execute_result"
    }
   ],
   "source": [
    "data ['hazardous'].value_counts()"
   ]
  },
  {
   "cell_type": "code",
   "execution_count": 7,
   "id": "2792625d",
   "metadata": {
    "execution": {
     "iopub.execute_input": "2022-06-26T15:44:35.888704Z",
     "iopub.status.busy": "2022-06-26T15:44:35.887974Z",
     "iopub.status.idle": "2022-06-26T15:44:35.898657Z",
     "shell.execute_reply": "2022-06-26T15:44:35.897841Z"
    },
    "papermill": {
     "duration": 0.023899,
     "end_time": "2022-06-26T15:44:35.901096",
     "exception": false,
     "start_time": "2022-06-26T15:44:35.877197",
     "status": "completed"
    },
    "tags": []
   },
   "outputs": [],
   "source": [
    "data_1 = data.drop(['id','name','orbiting_body'],axis=1)"
   ]
  },
  {
   "cell_type": "code",
   "execution_count": 8,
   "id": "736436c5",
   "metadata": {
    "execution": {
     "iopub.execute_input": "2022-06-26T15:44:35.922702Z",
     "iopub.status.busy": "2022-06-26T15:44:35.921919Z",
     "iopub.status.idle": "2022-06-26T15:44:35.930714Z",
     "shell.execute_reply": "2022-06-26T15:44:35.929947Z"
    },
    "papermill": {
     "duration": 0.021736,
     "end_time": "2022-06-26T15:44:35.932681",
     "exception": false,
     "start_time": "2022-06-26T15:44:35.910945",
     "status": "completed"
    },
    "tags": []
   },
   "outputs": [
    {
     "data": {
      "text/plain": [
       "False    90836\n",
       "Name: sentry_object, dtype: int64"
      ]
     },
     "execution_count": 8,
     "metadata": {},
     "output_type": "execute_result"
    }
   ],
   "source": [
    "data['sentry_object'].value_counts()"
   ]
  },
  {
   "cell_type": "code",
   "execution_count": 9,
   "id": "d65af36e",
   "metadata": {
    "execution": {
     "iopub.execute_input": "2022-06-26T15:44:35.954113Z",
     "iopub.status.busy": "2022-06-26T15:44:35.953367Z",
     "iopub.status.idle": "2022-06-26T15:44:35.961734Z",
     "shell.execute_reply": "2022-06-26T15:44:35.960936Z"
    },
    "papermill": {
     "duration": 0.021245,
     "end_time": "2022-06-26T15:44:35.963955",
     "exception": false,
     "start_time": "2022-06-26T15:44:35.942710",
     "status": "completed"
    },
    "tags": []
   },
   "outputs": [],
   "source": [
    "data_2 = data_1.drop(['sentry_object'],axis=1)"
   ]
  },
  {
   "cell_type": "code",
   "execution_count": 10,
   "id": "85e5e171",
   "metadata": {
    "execution": {
     "iopub.execute_input": "2022-06-26T15:44:35.985139Z",
     "iopub.status.busy": "2022-06-26T15:44:35.984351Z",
     "iopub.status.idle": "2022-06-26T15:44:36.001939Z",
     "shell.execute_reply": "2022-06-26T15:44:36.001067Z"
    },
    "papermill": {
     "duration": 0.031368,
     "end_time": "2022-06-26T15:44:36.004486",
     "exception": false,
     "start_time": "2022-06-26T15:44:35.973118",
     "status": "completed"
    },
    "tags": []
   },
   "outputs": [
    {
     "data": {
      "text/html": [
       "<div>\n",
       "<style scoped>\n",
       "    .dataframe tbody tr th:only-of-type {\n",
       "        vertical-align: middle;\n",
       "    }\n",
       "\n",
       "    .dataframe tbody tr th {\n",
       "        vertical-align: top;\n",
       "    }\n",
       "\n",
       "    .dataframe thead th {\n",
       "        text-align: right;\n",
       "    }\n",
       "</style>\n",
       "<table border=\"1\" class=\"dataframe\">\n",
       "  <thead>\n",
       "    <tr style=\"text-align: right;\">\n",
       "      <th></th>\n",
       "      <th>est_diameter_min</th>\n",
       "      <th>est_diameter_max</th>\n",
       "      <th>relative_velocity</th>\n",
       "      <th>miss_distance</th>\n",
       "      <th>absolute_magnitude</th>\n",
       "      <th>hazardous</th>\n",
       "    </tr>\n",
       "  </thead>\n",
       "  <tbody>\n",
       "    <tr>\n",
       "      <th>0</th>\n",
       "      <td>1.198271</td>\n",
       "      <td>2.679415</td>\n",
       "      <td>13569.249224</td>\n",
       "      <td>5.483974e+07</td>\n",
       "      <td>16.73</td>\n",
       "      <td>False</td>\n",
       "    </tr>\n",
       "    <tr>\n",
       "      <th>1</th>\n",
       "      <td>0.265800</td>\n",
       "      <td>0.594347</td>\n",
       "      <td>73588.726663</td>\n",
       "      <td>6.143813e+07</td>\n",
       "      <td>20.00</td>\n",
       "      <td>True</td>\n",
       "    </tr>\n",
       "    <tr>\n",
       "      <th>2</th>\n",
       "      <td>0.722030</td>\n",
       "      <td>1.614507</td>\n",
       "      <td>114258.692129</td>\n",
       "      <td>4.979872e+07</td>\n",
       "      <td>17.83</td>\n",
       "      <td>False</td>\n",
       "    </tr>\n",
       "    <tr>\n",
       "      <th>3</th>\n",
       "      <td>0.096506</td>\n",
       "      <td>0.215794</td>\n",
       "      <td>24764.303138</td>\n",
       "      <td>2.543497e+07</td>\n",
       "      <td>22.20</td>\n",
       "      <td>False</td>\n",
       "    </tr>\n",
       "    <tr>\n",
       "      <th>4</th>\n",
       "      <td>0.255009</td>\n",
       "      <td>0.570217</td>\n",
       "      <td>42737.733765</td>\n",
       "      <td>4.627557e+07</td>\n",
       "      <td>20.09</td>\n",
       "      <td>True</td>\n",
       "    </tr>\n",
       "    <tr>\n",
       "      <th>...</th>\n",
       "      <td>...</td>\n",
       "      <td>...</td>\n",
       "      <td>...</td>\n",
       "      <td>...</td>\n",
       "      <td>...</td>\n",
       "      <td>...</td>\n",
       "    </tr>\n",
       "    <tr>\n",
       "      <th>90831</th>\n",
       "      <td>0.026580</td>\n",
       "      <td>0.059435</td>\n",
       "      <td>52078.886692</td>\n",
       "      <td>1.230039e+07</td>\n",
       "      <td>25.00</td>\n",
       "      <td>False</td>\n",
       "    </tr>\n",
       "    <tr>\n",
       "      <th>90832</th>\n",
       "      <td>0.016771</td>\n",
       "      <td>0.037501</td>\n",
       "      <td>46114.605073</td>\n",
       "      <td>5.432121e+07</td>\n",
       "      <td>26.00</td>\n",
       "      <td>False</td>\n",
       "    </tr>\n",
       "    <tr>\n",
       "      <th>90833</th>\n",
       "      <td>0.031956</td>\n",
       "      <td>0.071456</td>\n",
       "      <td>7566.807732</td>\n",
       "      <td>2.840077e+07</td>\n",
       "      <td>24.60</td>\n",
       "      <td>False</td>\n",
       "    </tr>\n",
       "    <tr>\n",
       "      <th>90834</th>\n",
       "      <td>0.007321</td>\n",
       "      <td>0.016370</td>\n",
       "      <td>69199.154484</td>\n",
       "      <td>6.869206e+07</td>\n",
       "      <td>27.80</td>\n",
       "      <td>False</td>\n",
       "    </tr>\n",
       "    <tr>\n",
       "      <th>90835</th>\n",
       "      <td>0.039862</td>\n",
       "      <td>0.089133</td>\n",
       "      <td>27024.455553</td>\n",
       "      <td>5.977213e+07</td>\n",
       "      <td>24.12</td>\n",
       "      <td>False</td>\n",
       "    </tr>\n",
       "  </tbody>\n",
       "</table>\n",
       "<p>90836 rows × 6 columns</p>\n",
       "</div>"
      ],
      "text/plain": [
       "       est_diameter_min  est_diameter_max  relative_velocity  miss_distance  \\\n",
       "0              1.198271          2.679415       13569.249224   5.483974e+07   \n",
       "1              0.265800          0.594347       73588.726663   6.143813e+07   \n",
       "2              0.722030          1.614507      114258.692129   4.979872e+07   \n",
       "3              0.096506          0.215794       24764.303138   2.543497e+07   \n",
       "4              0.255009          0.570217       42737.733765   4.627557e+07   \n",
       "...                 ...               ...                ...            ...   \n",
       "90831          0.026580          0.059435       52078.886692   1.230039e+07   \n",
       "90832          0.016771          0.037501       46114.605073   5.432121e+07   \n",
       "90833          0.031956          0.071456        7566.807732   2.840077e+07   \n",
       "90834          0.007321          0.016370       69199.154484   6.869206e+07   \n",
       "90835          0.039862          0.089133       27024.455553   5.977213e+07   \n",
       "\n",
       "       absolute_magnitude  hazardous  \n",
       "0                   16.73      False  \n",
       "1                   20.00       True  \n",
       "2                   17.83      False  \n",
       "3                   22.20      False  \n",
       "4                   20.09       True  \n",
       "...                   ...        ...  \n",
       "90831               25.00      False  \n",
       "90832               26.00      False  \n",
       "90833               24.60      False  \n",
       "90834               27.80      False  \n",
       "90835               24.12      False  \n",
       "\n",
       "[90836 rows x 6 columns]"
      ]
     },
     "execution_count": 10,
     "metadata": {},
     "output_type": "execute_result"
    }
   ],
   "source": [
    "data_2"
   ]
  },
  {
   "cell_type": "code",
   "execution_count": 11,
   "id": "9636d046",
   "metadata": {
    "execution": {
     "iopub.execute_input": "2022-06-26T15:44:36.026638Z",
     "iopub.status.busy": "2022-06-26T15:44:36.025842Z",
     "iopub.status.idle": "2022-06-26T15:44:36.058119Z",
     "shell.execute_reply": "2022-06-26T15:44:36.056801Z"
    },
    "papermill": {
     "duration": 0.04614,
     "end_time": "2022-06-26T15:44:36.060499",
     "exception": false,
     "start_time": "2022-06-26T15:44:36.014359",
     "status": "completed"
    },
    "tags": []
   },
   "outputs": [
    {
     "data": {
      "text/html": [
       "<div>\n",
       "<style scoped>\n",
       "    .dataframe tbody tr th:only-of-type {\n",
       "        vertical-align: middle;\n",
       "    }\n",
       "\n",
       "    .dataframe tbody tr th {\n",
       "        vertical-align: top;\n",
       "    }\n",
       "\n",
       "    .dataframe thead th {\n",
       "        text-align: right;\n",
       "    }\n",
       "</style>\n",
       "<table border=\"1\" class=\"dataframe\">\n",
       "  <thead>\n",
       "    <tr style=\"text-align: right;\">\n",
       "      <th></th>\n",
       "      <th>est_diameter_min</th>\n",
       "      <th>est_diameter_max</th>\n",
       "      <th>relative_velocity</th>\n",
       "      <th>miss_distance</th>\n",
       "      <th>absolute_magnitude</th>\n",
       "      <th>hazardous</th>\n",
       "    </tr>\n",
       "  </thead>\n",
       "  <tbody>\n",
       "    <tr>\n",
       "      <th>est_diameter_min</th>\n",
       "      <td>1.000000</td>\n",
       "      <td>1.000000</td>\n",
       "      <td>0.221553</td>\n",
       "      <td>0.142241</td>\n",
       "      <td>-0.560188</td>\n",
       "      <td>0.183363</td>\n",
       "    </tr>\n",
       "    <tr>\n",
       "      <th>est_diameter_max</th>\n",
       "      <td>1.000000</td>\n",
       "      <td>1.000000</td>\n",
       "      <td>0.221553</td>\n",
       "      <td>0.142241</td>\n",
       "      <td>-0.560188</td>\n",
       "      <td>0.183363</td>\n",
       "    </tr>\n",
       "    <tr>\n",
       "      <th>relative_velocity</th>\n",
       "      <td>0.221553</td>\n",
       "      <td>0.221553</td>\n",
       "      <td>1.000000</td>\n",
       "      <td>0.327169</td>\n",
       "      <td>-0.353863</td>\n",
       "      <td>0.191185</td>\n",
       "    </tr>\n",
       "    <tr>\n",
       "      <th>miss_distance</th>\n",
       "      <td>0.142241</td>\n",
       "      <td>0.142241</td>\n",
       "      <td>0.327169</td>\n",
       "      <td>1.000000</td>\n",
       "      <td>-0.264168</td>\n",
       "      <td>0.042302</td>\n",
       "    </tr>\n",
       "    <tr>\n",
       "      <th>absolute_magnitude</th>\n",
       "      <td>-0.560188</td>\n",
       "      <td>-0.560188</td>\n",
       "      <td>-0.353863</td>\n",
       "      <td>-0.264168</td>\n",
       "      <td>1.000000</td>\n",
       "      <td>-0.365267</td>\n",
       "    </tr>\n",
       "    <tr>\n",
       "      <th>hazardous</th>\n",
       "      <td>0.183363</td>\n",
       "      <td>0.183363</td>\n",
       "      <td>0.191185</td>\n",
       "      <td>0.042302</td>\n",
       "      <td>-0.365267</td>\n",
       "      <td>1.000000</td>\n",
       "    </tr>\n",
       "  </tbody>\n",
       "</table>\n",
       "</div>"
      ],
      "text/plain": [
       "                    est_diameter_min  est_diameter_max  relative_velocity  \\\n",
       "est_diameter_min            1.000000          1.000000           0.221553   \n",
       "est_diameter_max            1.000000          1.000000           0.221553   \n",
       "relative_velocity           0.221553          0.221553           1.000000   \n",
       "miss_distance               0.142241          0.142241           0.327169   \n",
       "absolute_magnitude         -0.560188         -0.560188          -0.353863   \n",
       "hazardous                   0.183363          0.183363           0.191185   \n",
       "\n",
       "                    miss_distance  absolute_magnitude  hazardous  \n",
       "est_diameter_min         0.142241           -0.560188   0.183363  \n",
       "est_diameter_max         0.142241           -0.560188   0.183363  \n",
       "relative_velocity        0.327169           -0.353863   0.191185  \n",
       "miss_distance            1.000000           -0.264168   0.042302  \n",
       "absolute_magnitude      -0.264168            1.000000  -0.365267  \n",
       "hazardous                0.042302           -0.365267   1.000000  "
      ]
     },
     "execution_count": 11,
     "metadata": {},
     "output_type": "execute_result"
    }
   ],
   "source": [
    "data_2.corr()"
   ]
  },
  {
   "cell_type": "code",
   "execution_count": 12,
   "id": "1e9599c1",
   "metadata": {
    "execution": {
     "iopub.execute_input": "2022-06-26T15:44:36.082777Z",
     "iopub.status.busy": "2022-06-26T15:44:36.082363Z",
     "iopub.status.idle": "2022-06-26T15:44:36.499000Z",
     "shell.execute_reply": "2022-06-26T15:44:36.497755Z"
    },
    "papermill": {
     "duration": 0.430746,
     "end_time": "2022-06-26T15:44:36.501560",
     "exception": false,
     "start_time": "2022-06-26T15:44:36.070814",
     "status": "completed"
    },
    "tags": []
   },
   "outputs": [
    {
     "data": {
      "text/plain": [
       "<AxesSubplot:>"
      ]
     },
     "execution_count": 12,
     "metadata": {},
     "output_type": "execute_result"
    },
    {
     "data": {
      "image/png": "[encoded data removed]",
      "text/plain": [
       "<Figure size 432x288 with 2 Axes>"
      ]
     },
     "metadata": {
      "needs_background": "light"
     },
     "output_type": "display_data"
    }
   ],
   "source": [
    "mask = np.triu(np.ones_like(data_2.corr(), dtype=bool))\n",
    "sns.heatmap(data_2.corr(),mask = mask ,annot=True)"
   ]
  },
  {
   "cell_type": "code",
   "execution_count": 13,
   "id": "e3b2e606",
   "metadata": {
    "execution": {
     "iopub.execute_input": "2022-06-26T15:44:36.526115Z",
     "iopub.status.busy": "2022-06-26T15:44:36.525279Z",
     "iopub.status.idle": "2022-06-26T15:44:36.534889Z",
     "shell.execute_reply": "2022-06-26T15:44:36.533648Z"
    },
    "papermill": {
     "duration": 0.024579,
     "end_time": "2022-06-26T15:44:36.537079",
     "exception": false,
     "start_time": "2022-06-26T15:44:36.512500",
     "status": "completed"
    },
    "tags": []
   },
   "outputs": [
    {
     "name": "stdout",
     "output_type": "stream",
     "text": [
      "(90836, 4) (90836,)\n"
     ]
    }
   ],
   "source": [
    "X = data.drop(['id','name','est_diameter_max','orbiting_body','sentry_object','hazardous'],axis=1) \n",
    "\n",
    "y = data.hazardous.astype('int')\n",
    "print(X.shape,y.shape)"
   ]
  },
  {
   "cell_type": "code",
   "execution_count": 14,
   "id": "cd17589f",
   "metadata": {
    "execution": {
     "iopub.execute_input": "2022-06-26T15:44:36.560871Z",
     "iopub.status.busy": "2022-06-26T15:44:36.560008Z",
     "iopub.status.idle": "2022-06-26T15:44:36.581243Z",
     "shell.execute_reply": "2022-06-26T15:44:36.580056Z"
    },
    "papermill": {
     "duration": 0.036431,
     "end_time": "2022-06-26T15:44:36.583973",
     "exception": false,
     "start_time": "2022-06-26T15:44:36.547542",
     "status": "completed"
    },
    "tags": []
   },
   "outputs": [],
   "source": [
    "X_train, X_test, y_train, y_test = train_test_split(X,\n",
    "                                                    y, test_size = 0.2, random_state = 0)"
   ]
  },
  {
   "cell_type": "code",
   "execution_count": 15,
   "id": "6292f759",
   "metadata": {
    "execution": {
     "iopub.execute_input": "2022-06-26T15:44:36.608141Z",
     "iopub.status.busy": "2022-06-26T15:44:36.607343Z",
     "iopub.status.idle": "2022-06-26T15:44:40.274896Z",
     "shell.execute_reply": "2022-06-26T15:44:40.273814Z"
    },
    "papermill": {
     "duration": 3.682286,
     "end_time": "2022-06-26T15:44:40.277482",
     "exception": false,
     "start_time": "2022-06-26T15:44:36.595196",
     "status": "completed"
    },
    "tags": []
   },
   "outputs": [
    {
     "name": "stdout",
     "output_type": "stream",
     "text": [
      "91.69\n"
     ]
    }
   ],
   "source": [
    "XGBC = XGBClassifier()\n",
    "XGBC.fit(X_train, y_train)\n",
    "XGBC_pred = XGBC.predict(X_test)\n",
    "acc_XGBC = round(accuracy_score(XGBC_pred, y_test) * 100, 2)\n",
    "print(acc_XGBC)"
   ]
  },
  {
   "cell_type": "code",
   "execution_count": 16,
   "id": "4f915ff3",
   "metadata": {
    "execution": {
     "iopub.execute_input": "2022-06-26T15:44:40.302882Z",
     "iopub.status.busy": "2022-06-26T15:44:40.302385Z",
     "iopub.status.idle": "2022-06-26T15:44:40.549296Z",
     "shell.execute_reply": "2022-06-26T15:44:40.547952Z"
    },
    "papermill": {
     "duration": 0.263165,
     "end_time": "2022-06-26T15:44:40.552799",
     "exception": false,
     "start_time": "2022-06-26T15:44:40.289634",
     "status": "completed"
    },
    "tags": []
   },
   "outputs": [
    {
     "data": {
      "image/png": "[encoded data removed]",
      "text/plain": [
       "<Figure size 540x540 with 1 Axes>"
      ]
     },
     "metadata": {
      "needs_background": "light"
     },
     "output_type": "display_data"
    }
   ],
   "source": [
    "conf_matrix = confusion_matrix(y_true=y_test, y_pred=XGBC_pred)\n",
    "fig, ax = plt.subplots(figsize=(7.5, 7.5))\n",
    "ax.matshow(conf_matrix, cmap=plt.cm.Blues, alpha=0.3)\n",
    "for i in range(conf_matrix.shape[0]):\n",
    "    for j in range(conf_matrix.shape[1]):\n",
    "        ax.text(x=j, y=i,s=conf_matrix[i, j], va='center', ha='center', size='xx-large')"
   ]
  },
  {
   "cell_type": "code",
   "execution_count": 17,
   "id": "26761549",
   "metadata": {
    "execution": {
     "iopub.execute_input": "2022-06-26T15:44:40.597567Z",
     "iopub.status.busy": "2022-06-26T15:44:40.596772Z",
     "iopub.status.idle": "2022-06-26T15:44:41.283807Z",
     "shell.execute_reply": "2022-06-26T15:44:41.282433Z"
    },
    "papermill": {
     "duration": 0.713179,
     "end_time": "2022-06-26T15:44:41.287245",
     "exception": false,
     "start_time": "2022-06-26T15:44:40.574066",
     "status": "completed"
    },
    "tags": []
   },
   "outputs": [
    {
     "name": "stdout",
     "output_type": "stream",
     "text": [
      "88.06\n"
     ]
    }
   ],
   "source": [
    "KNN = KNeighborsClassifier(n_neighbors = 3)\n",
    "KNN.fit(X_train, y_train)\n",
    "KNN_pred = KNN.predict(X_test)\n",
    "acc_KNN = round(accuracy_score(KNN_pred, y_test) * 100, 2)\n",
    "print(acc_KNN)\n"
   ]
  },
  {
   "cell_type": "code",
   "execution_count": 18,
   "id": "f93b70be",
   "metadata": {
    "execution": {
     "iopub.execute_input": "2022-06-26T15:44:41.313710Z",
     "iopub.status.busy": "2022-06-26T15:44:41.313269Z",
     "iopub.status.idle": "2022-06-26T15:44:41.522922Z",
     "shell.execute_reply": "2022-06-26T15:44:41.521715Z"
    },
    "papermill": {
     "duration": 0.226585,
     "end_time": "2022-06-26T15:44:41.526393",
     "exception": false,
     "start_time": "2022-06-26T15:44:41.299808",
     "status": "completed"
    },
    "tags": []
   },
   "outputs": [
    {
     "data": {
      "image/png": "[encoded data removed]",
      "text/plain": [
       "<Figure size 540x540 with 1 Axes>"
      ]
     },
     "metadata": {
      "needs_background": "light"
     },
     "output_type": "display_data"
    }
   ],
   "source": [
    "conf_matrix = confusion_matrix(y_true=y_test, y_pred=KNN_pred)\n",
    "fig, ax = plt.subplots(figsize=(7.5, 7.5))\n",
    "ax.matshow(conf_matrix, cmap=plt.cm.Blues, alpha=0.3)\n",
    "for i in range(conf_matrix.shape[0]):\n",
    "    for j in range(conf_matrix.shape[1]):\n",
    "        ax.text(x=j, y=i,s=conf_matrix[i, j], va='center', ha='center', size='xx-large')"
   ]
  },
  {
   "cell_type": "code",
   "execution_count": 19,
   "id": "f8d8f196",
   "metadata": {
    "execution": {
     "iopub.execute_input": "2022-06-26T15:44:41.571266Z",
     "iopub.status.busy": "2022-06-26T15:44:41.570601Z",
     "iopub.status.idle": "2022-06-26T15:44:41.611271Z",
     "shell.execute_reply": "2022-06-26T15:44:41.610253Z"
    },
    "papermill": {
     "duration": 0.067108,
     "end_time": "2022-06-26T15:44:41.614760",
     "exception": false,
     "start_time": "2022-06-26T15:44:41.547652",
     "status": "completed"
    },
    "tags": []
   },
   "outputs": [
    {
     "name": "stdout",
     "output_type": "stream",
     "text": [
      "89.57\n"
     ]
    }
   ],
   "source": [
    "GNB = GaussianNB()\n",
    "GNB.fit(X_train, y_train)\n",
    "GNB_pred = GNB.predict(X_test)\n",
    "acc_GNB = round(accuracy_score(GNB_pred, y_test) * 100, 2)\n",
    "print(acc_GNB)"
   ]
  },
  {
   "cell_type": "code",
   "execution_count": 20,
   "id": "2eff0b0f",
   "metadata": {
    "execution": {
     "iopub.execute_input": "2022-06-26T15:44:41.650157Z",
     "iopub.status.busy": "2022-06-26T15:44:41.649564Z",
     "iopub.status.idle": "2022-06-26T15:44:41.902148Z",
     "shell.execute_reply": "2022-06-26T15:44:41.900894Z"
    },
    "papermill": {
     "duration": 0.274012,
     "end_time": "2022-06-26T15:44:41.906081",
     "exception": false,
     "start_time": "2022-06-26T15:44:41.632069",
     "status": "completed"
    },
    "tags": []
   },
   "outputs": [
    {
     "data": {
      "image/png": "[encoded data removed]",
      "text/plain": [
       "<Figure size 540x540 with 1 Axes>"
      ]
     },
     "metadata": {
      "needs_background": "light"
     },
     "output_type": "display_data"
    }
   ],
   "source": [
    "conf_matrix = confusion_matrix(y_true=y_test, y_pred=GNB_pred)\n",
    "fig, ax = plt.subplots(figsize=(7.5, 7.5))\n",
    "ax.matshow(conf_matrix, cmap=plt.cm.Blues, alpha=0.3)\n",
    "for i in range(conf_matrix.shape[0]):\n",
    "    for j in range(conf_matrix.shape[1]):\n",
    "        ax.text(x=j, y=i,s=conf_matrix[i, j], va='center', ha='center', size='xx-large')"
   ]
  },
  {
   "cell_type": "code",
   "execution_count": 21,
   "id": "b79d1f2c",
   "metadata": {
    "execution": {
     "iopub.execute_input": "2022-06-26T15:44:41.938982Z",
     "iopub.status.busy": "2022-06-26T15:44:41.938504Z",
     "iopub.status.idle": "2022-06-26T15:44:52.636826Z",
     "shell.execute_reply": "2022-06-26T15:44:52.635519Z"
    },
    "papermill": {
     "duration": 10.715761,
     "end_time": "2022-06-26T15:44:52.639861",
     "exception": false,
     "start_time": "2022-06-26T15:44:41.924100",
     "status": "completed"
    },
    "tags": []
   },
   "outputs": [
    {
     "name": "stdout",
     "output_type": "stream",
     "text": [
      "91.84\n"
     ]
    }
   ],
   "source": [
    "RF = RandomForestClassifier()\n",
    "RF.fit(X_train, y_train)\n",
    "RF_pred = RF.predict(X_test)\n",
    "acc_RF = round(accuracy_score(RF_pred, y_test) * 100, 2)\n",
    "print(acc_RF)"
   ]
  },
  {
   "cell_type": "code",
   "execution_count": 22,
   "id": "2afa6e10",
   "metadata": {
    "execution": {
     "iopub.execute_input": "2022-06-26T15:44:52.666019Z",
     "iopub.status.busy": "2022-06-26T15:44:52.664942Z",
     "iopub.status.idle": "2022-06-26T15:44:52.823569Z",
     "shell.execute_reply": "2022-06-26T15:44:52.822291Z"
    },
    "papermill": {
     "duration": 0.174526,
     "end_time": "2022-06-26T15:44:52.826278",
     "exception": false,
     "start_time": "2022-06-26T15:44:52.651752",
     "status": "completed"
    },
    "tags": []
   },
   "outputs": [
    {
     "data": {
      "image/png": "[encoded data removed]",
      "text/plain": [
       "<Figure size 540x540 with 1 Axes>"
      ]
     },
     "metadata": {
      "needs_background": "light"
     },
     "output_type": "display_data"
    }
   ],
   "source": [
    "conf_matrix = confusion_matrix(y_true=y_test, y_pred=RF_pred)\n",
    "fig, ax = plt.subplots(figsize=(7.5, 7.5))\n",
    "ax.matshow(conf_matrix, cmap=plt.cm.Blues, alpha=0.3)\n",
    "for i in range(conf_matrix.shape[0]):\n",
    "    for j in range(conf_matrix.shape[1]):\n",
    "        ax.text(x=j, y=i,s=conf_matrix[i, j], va='center', ha='center', size='xx-large')"
   ]
  },
  {
   "cell_type": "code",
   "execution_count": 23,
   "id": "2bd7ea4a",
   "metadata": {
    "execution": {
     "iopub.execute_input": "2022-06-26T15:44:52.854073Z",
     "iopub.status.busy": "2022-06-26T15:44:52.853203Z",
     "iopub.status.idle": "2022-06-26T15:44:54.670019Z",
     "shell.execute_reply": "2022-06-26T15:44:54.668754Z"
    },
    "papermill": {
     "duration": 1.836417,
     "end_time": "2022-06-26T15:44:54.675405",
     "exception": false,
     "start_time": "2022-06-26T15:44:52.838988",
     "status": "completed"
    },
    "tags": []
   },
   "outputs": [
    {
     "name": "stdout",
     "output_type": "stream",
     "text": [
      "86.21\n"
     ]
    }
   ],
   "source": [
    "SGDC = SGDClassifier()\n",
    "SGDC.fit(X_train, y_train)\n",
    "SGDC_pred = SGDC.predict(X_test)\n",
    "acc_SGDC = round(accuracy_score(SGDC_pred, y_test) * 100, 2)\n",
    "print(acc_SGDC)"
   ]
  },
  {
   "cell_type": "code",
   "execution_count": 24,
   "id": "4791d169",
   "metadata": {
    "execution": {
     "iopub.execute_input": "2022-06-26T15:44:54.720885Z",
     "iopub.status.busy": "2022-06-26T15:44:54.720220Z",
     "iopub.status.idle": "2022-06-26T15:44:54.969578Z",
     "shell.execute_reply": "2022-06-26T15:44:54.968319Z"
    },
    "papermill": {
     "duration": 0.276245,
     "end_time": "2022-06-26T15:44:54.973113",
     "exception": false,
     "start_time": "2022-06-26T15:44:54.696868",
     "status": "completed"
    },
    "tags": []
   },
   "outputs": [
    {
     "data": {
      "image/png": "[encoded data removed]",
      "text/plain": [
       "<Figure size 540x540 with 1 Axes>"
      ]
     },
     "metadata": {
      "needs_background": "light"
     },
     "output_type": "display_data"
    }
   ],
   "source": [
    "conf_matrix = confusion_matrix(y_true=y_test, y_pred=SGDC_pred)\n",
    "fig, ax = plt.subplots(figsize=(7.5, 7.5))\n",
    "ax.matshow(conf_matrix, cmap=plt.cm.Blues, alpha=0.3)\n",
    "for i in range(conf_matrix.shape[0]):\n",
    "    for j in range(conf_matrix.shape[1]):\n",
    "        ax.text(x=j, y=i,s=conf_matrix[i, j], va='center', ha='center', size='xx-large')"
   ]
  },
  {
   "cell_type": "code",
   "execution_count": 25,
   "id": "623bf58e",
   "metadata": {
    "execution": {
     "iopub.execute_input": "2022-06-26T15:44:55.020383Z",
     "iopub.status.busy": "2022-06-26T15:44:55.019909Z",
     "iopub.status.idle": "2022-06-26T15:44:55.248205Z",
     "shell.execute_reply": "2022-06-26T15:44:55.246769Z"
    },
    "papermill": {
     "duration": 0.256095,
     "end_time": "2022-06-26T15:44:55.251976",
     "exception": false,
     "start_time": "2022-06-26T15:44:54.995881",
     "status": "completed"
    },
    "tags": []
   },
   "outputs": [
    {
     "data": {
      "image/png": "[encoded data removed]",
      "text/plain": [
       "<Figure size 540x540 with 1 Axes>"
      ]
     },
     "metadata": {
      "needs_background": "light"
     },
     "output_type": "display_data"
    }
   ],
   "source": [
    "conf_matrix = confusion_matrix(y_true=y_test, y_pred=KNN_pred)\n",
    "fig, ax = plt.subplots(figsize=(7.5, 7.5))\n",
    "ax.matshow(conf_matrix, cmap=plt.cm.Blues, alpha=0.3)\n",
    "for i in range(conf_matrix.shape[0]):\n",
    "    for j in range(conf_matrix.shape[1]):\n",
    "        ax.text(x=j, y=i,s=conf_matrix[i, j], va='center', ha='center', size='xx-large')"
   ]
  },
  {
   "cell_type": "code",
   "execution_count": 26,
   "id": "fd9c4bd1",
   "metadata": {
    "execution": {
     "iopub.execute_input": "2022-06-26T15:44:55.298953Z",
     "iopub.status.busy": "2022-06-26T15:44:55.298227Z",
     "iopub.status.idle": "2022-06-26T15:44:55.594101Z",
     "shell.execute_reply": "2022-06-26T15:44:55.592554Z"
    },
    "papermill": {
     "duration": 0.322492,
     "end_time": "2022-06-26T15:44:55.597572",
     "exception": false,
     "start_time": "2022-06-26T15:44:55.275080",
     "status": "completed"
    },
    "tags": []
   },
   "outputs": [
    {
     "name": "stdout",
     "output_type": "stream",
     "text": [
      "89.31\n"
     ]
    }
   ],
   "source": [
    "DTC = DecisionTreeClassifier()\n",
    "DTC.fit(X_train, y_train)\n",
    "DTC_pred = DTC.predict(X_test)\n",
    "acc_DTC = round(accuracy_score(DTC_pred, y_test) * 100, 2)\n",
    "print(acc_DTC)"
   ]
  },
  {
   "cell_type": "code",
   "execution_count": 27,
   "id": "7acbc6ba",
   "metadata": {
    "execution": {
     "iopub.execute_input": "2022-06-26T15:44:55.625197Z",
     "iopub.status.busy": "2022-06-26T15:44:55.624748Z",
     "iopub.status.idle": "2022-06-26T15:44:55.870253Z",
     "shell.execute_reply": "2022-06-26T15:44:55.868851Z"
    },
    "papermill": {
     "duration": 0.2629,
     "end_time": "2022-06-26T15:44:55.873643",
     "exception": false,
     "start_time": "2022-06-26T15:44:55.610743",
     "status": "completed"
    },
    "tags": []
   },
   "outputs": [
    {
     "data": {
      "image/png": "[encoded data removed]",
      "text/plain": [
       "<Figure size 540x540 with 1 Axes>"
      ]
     },
     "metadata": {
      "needs_background": "light"
     },
     "output_type": "display_data"
    }
   ],
   "source": [
    "conf_matrix = confusion_matrix(y_true=y_test, y_pred=DTC_pred)\n",
    "fig, ax = plt.subplots(figsize=(7.5, 7.5))\n",
    "ax.matshow(conf_matrix, cmap=plt.cm.Blues, alpha=0.3)\n",
    "for i in range(conf_matrix.shape[0]):\n",
    "    for j in range(conf_matrix.shape[1]):\n",
    "        ax.text(x=j, y=i,s=conf_matrix[i, j], va='center', ha='center', size='xx-large')"
   ]
  },
  {
   "cell_type": "code",
   "execution_count": 28,
   "id": "ceadb9d4",
   "metadata": {
    "execution": {
     "iopub.execute_input": "2022-06-26T15:44:55.920262Z",
     "iopub.status.busy": "2022-06-26T15:44:55.919151Z",
     "iopub.status.idle": "2022-06-26T15:44:55.935500Z",
     "shell.execute_reply": "2022-06-26T15:44:55.934274Z"
    },
    "papermill": {
     "duration": 0.040485,
     "end_time": "2022-06-26T15:44:55.938579",
     "exception": false,
     "start_time": "2022-06-26T15:44:55.898094",
     "status": "completed"
    },
    "tags": []
   },
   "outputs": [
    {
     "data": {
      "text/html": [
       "<div>\n",
       "<style scoped>\n",
       "    .dataframe tbody tr th:only-of-type {\n",
       "        vertical-align: middle;\n",
       "    }\n",
       "\n",
       "    .dataframe tbody tr th {\n",
       "        vertical-align: top;\n",
       "    }\n",
       "\n",
       "    .dataframe thead th {\n",
       "        text-align: right;\n",
       "    }\n",
       "</style>\n",
       "<table border=\"1\" class=\"dataframe\">\n",
       "  <thead>\n",
       "    <tr style=\"text-align: right;\">\n",
       "      <th></th>\n",
       "      <th>Model</th>\n",
       "      <th>Score</th>\n",
       "    </tr>\n",
       "  </thead>\n",
       "  <tbody>\n",
       "    <tr>\n",
       "      <th>0</th>\n",
       "      <td>Random Forest</td>\n",
       "      <td>91.84</td>\n",
       "    </tr>\n",
       "    <tr>\n",
       "      <th>1</th>\n",
       "      <td>XG Boost</td>\n",
       "      <td>91.69</td>\n",
       "    </tr>\n",
       "    <tr>\n",
       "      <th>2</th>\n",
       "      <td>Gaussian Naive Bayes</td>\n",
       "      <td>89.57</td>\n",
       "    </tr>\n",
       "    <tr>\n",
       "      <th>5</th>\n",
       "      <td>DecisionTreeClassifier</td>\n",
       "      <td>89.31</td>\n",
       "    </tr>\n",
       "    <tr>\n",
       "      <th>4</th>\n",
       "      <td>KNeighborsClassifier</td>\n",
       "      <td>88.06</td>\n",
       "    </tr>\n",
       "    <tr>\n",
       "      <th>3</th>\n",
       "      <td>SGD Classifier</td>\n",
       "      <td>86.21</td>\n",
       "    </tr>\n",
       "  </tbody>\n",
       "</table>\n",
       "</div>"
      ],
      "text/plain": [
       "                    Model  Score\n",
       "0           Random Forest  91.84\n",
       "1                XG Boost  91.69\n",
       "2    Gaussian Naive Bayes  89.57\n",
       "5  DecisionTreeClassifier  89.31\n",
       "4    KNeighborsClassifier  88.06\n",
       "3          SGD Classifier  86.21"
      ]
     },
     "execution_count": 28,
     "metadata": {},
     "output_type": "execute_result"
    }
   ],
   "source": [
    "models = pd.DataFrame({\n",
    "    'Model': ['Random Forest', 'XG Boost', 'Gaussian Naive Bayes','SGD Classifier', \n",
    "              'KNeighborsClassifier', 'DecisionTreeClassifier'],\n",
    "    'Score': [acc_RF, acc_XGBC, acc_GNB,acc_SGDC, \n",
    "              acc_KNN, acc_DTC]})\n",
    "models.sort_values(by='Score', ascending=False)"
   ]
  },
  {
   "cell_type": "code",
   "execution_count": 29,
   "id": "22da4023",
   "metadata": {
    "execution": {
     "iopub.execute_input": "2022-06-26T15:44:55.966965Z",
     "iopub.status.busy": "2022-06-26T15:44:55.966161Z",
     "iopub.status.idle": "2022-06-26T15:46:19.525852Z",
     "shell.execute_reply": "2022-06-26T15:46:19.523823Z"
    },
    "papermill": {
     "duration": 83.576856,
     "end_time": "2022-06-26T15:46:19.528446",
     "exception": false,
     "start_time": "2022-06-26T15:44:55.951590",
     "status": "completed"
    },
    "tags": []
   },
   "outputs": [
    {
     "name": "stderr",
     "output_type": "stream",
     "text": [
      "2022-06-26 15:44:56.009688: I tensorflow/core/common_runtime/process_util.cc:146] Creating new thread pool with default inter op setting: 2. Tune using inter_op_parallelism_threads for best performance.\n",
      "2022-06-26 15:44:56.194325: I tensorflow/compiler/mlir/mlir_graph_optimization_pass.cc:185] None of the MLIR Optimization Passes are enabled (registered 2)\n"
     ]
    },
    {
     "name": "stdout",
     "output_type": "stream",
     "text": [
      "Model: \"sequential\"\n",
      "_________________________________________________________________\n",
      "Layer (type)                 Output Shape              Param #   \n",
      "=================================================================\n",
      "dense (Dense)                (None, 12)                60        \n",
      "_________________________________________________________________\n",
      "dense_1 (Dense)              (None, 8)                 104       \n",
      "_________________________________________________________________\n",
      "dense_2 (Dense)              (None, 1)                 9         \n",
      "=================================================================\n",
      "Total params: 173\n",
      "Trainable params: 173\n",
      "Non-trainable params: 0\n",
      "_________________________________________________________________\n",
      "Epoch 1/10\n",
      "3634/3634 [==============================] - 6s 2ms/step - loss: 9130.8066 - accuracy: 0.7983 - val_loss: 22384.1602 - val_accuracy: 0.9088\n",
      "Epoch 2/10\n",
      "3634/3634 [==============================] - 6s 2ms/step - loss: 8010.8872 - accuracy: 0.8085 - val_loss: 1179.1106 - val_accuracy: 0.9088\n",
      "Epoch 3/10\n",
      "3634/3634 [==============================] - 6s 2ms/step - loss: 6843.8296 - accuracy: 0.8039 - val_loss: 3260.2061 - val_accuracy: 0.9088\n",
      "Epoch 4/10\n",
      "3634/3634 [==============================] - 6s 2ms/step - loss: 6693.4370 - accuracy: 0.8064 - val_loss: 6981.5918 - val_accuracy: 0.9088\n",
      "Epoch 5/10\n",
      "3634/3634 [==============================] - 6s 2ms/step - loss: 6310.3721 - accuracy: 0.8063 - val_loss: 11591.4688 - val_accuracy: 0.1424\n",
      "Epoch 6/10\n",
      "3634/3634 [==============================] - 6s 2ms/step - loss: 5843.7710 - accuracy: 0.8086 - val_loss: 1331.5206 - val_accuracy: 0.9027\n",
      "Epoch 7/10\n",
      "3634/3634 [==============================] - 6s 2ms/step - loss: 5436.1890 - accuracy: 0.8084 - val_loss: 1834.9093 - val_accuracy: 0.9088\n",
      "Epoch 8/10\n",
      "3634/3634 [==============================] - 6s 2ms/step - loss: 5423.4150 - accuracy: 0.8088 - val_loss: 11312.8711 - val_accuracy: 0.1373\n",
      "Epoch 9/10\n",
      "3634/3634 [==============================] - 6s 2ms/step - loss: 5167.3540 - accuracy: 0.8081 - val_loss: 1997.1871 - val_accuracy: 0.3231\n",
      "Epoch 10/10\n",
      "3634/3634 [==============================] - 6s 2ms/step - loss: 4317.4541 - accuracy: 0.8076 - val_loss: 3168.0649 - val_accuracy: 0.1276\n",
      "568/568 [==============================] - 1s 1ms/step - loss: 3110.0276 - accuracy: 0.1333\n",
      "Accuracy: 13.33\n"
     ]
    }
   ],
   "source": [
    "classifier = Sequential()\n",
    "classifier.add(Dense(12, input_dim=4, activation='relu'))\n",
    "classifier.add(Dense(8, activation='relu'))\n",
    "classifier.add(Dense(1, activation='sigmoid'))\n",
    "classifier.compile(loss='binary_crossentropy', optimizer='adam', metrics=['accuracy'])\n",
    "classifier.summary()\n",
    "\n",
    "# Fit Model\n",
    "\n",
    "history = classifier.fit(X_train, y_train, batch_size = 18, epochs = 10,\n",
    "    validation_split=0.1,verbose = 1,shuffle=True)\n",
    "\n",
    "# Accuracy 90.2% (5 epochs) \n",
    "\n",
    "_, accuracy = classifier.evaluate(X_test, y_test)\n",
    "print('Accuracy: %.2f' % (accuracy*100))"
   ]
  },
  {
   "cell_type": "code",
   "execution_count": null,
   "id": "11b7c220",
   "metadata": {
    "papermill": {
     "duration": 0.09134,
     "end_time": "2022-06-26T15:46:19.711171",
     "exception": false,
     "start_time": "2022-06-26T15:46:19.619831",
     "status": "completed"
    },
    "tags": []
   },
   "outputs": [],
   "source": []
  }
 ],
 "metadata": {
  "kernelspec": {
   "display_name": "Python 3",
   "language": "python",
   "name": "python3"
  },
  "language_info": {
   "codemirror_mode": {
    "name": "ipython",
    "version": 3
   },
   "file_extension": ".py",
   "mimetype": "text/x-python",
   "name": "python",
   "nbconvert_exporter": "python",
   "pygments_lexer": "ipython3",
   "version": "3.7.12"
  },
  "papermill": {
   "default_parameters": {},
   "duration": 128.756041,
   "end_time": "2022-06-26T15:46:22.459269",
   "environment_variables": {},
   "exception": null,
   "input_path": "__notebook__.ipynb",
   "output_path": "__notebook__.ipynb",
   "parameters": {},
   "start_time": "2022-06-26T15:44:13.703228",
   "version": "2.3.4"
  }
 },
 "nbformat": 4,
 "nbformat_minor": 5
}
